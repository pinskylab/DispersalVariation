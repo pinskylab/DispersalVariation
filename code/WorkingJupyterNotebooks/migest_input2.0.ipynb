{
 "cells": [
  {
   "cell_type": "markdown",
   "metadata": {},
   "source": [
    "## Prepare migest input based on parentage results generated in ~/parentage/notebooks/process_colony_dyad & and demography measures from~/parentage/notebooks/proportion_sampled_allison"
   ]
  },
  {
   "cell_type": "code",
   "execution_count": 21,
   "metadata": {},
   "outputs": [],
   "source": [
    "Packages <- c(\"dplyr\", \"sjmisc\", \"RMySQL\",  \"tidyr\",\"tidyverse\", \"lubridate\")\n",
    "\n",
    "\n",
    "invisible(suppressPackageStartupMessages(lapply(Packages, library, character.only = TRUE)))\n",
    "\n",
    "setwd('/local/home/katrinac/migest')\n",
    "\n",
    "source(\"~/scripts/conleyte.R\")\n",
    "source(\"~/scripts/conlabor.R\")\n",
    "source(\"~/scripts/sample_latlon.R\")\n",
    "source(\"~/scripts/get_date.R\")\n",
    "source(\"~/scripts/get_samp.R\")\n",
    "source(\"~/scripts/anem_meta.R\")\n",
    "source(\"~/scripts/get_fish.R\")\n",
    "source(\"~/scripts/get_lig.R\")\n",
    "source(\"~/scripts/create_text.R\")\n",
    "load(\"~/parentage/r_data/sampled_area_each_year.RData\")\n",
    "load(\"~/parentage/r_data/anems_visited_by_year.RData\")\n",
    "load(\"~/parentage/r_data/total_sampling_across_years.RData\")\n",
    "load(\"~/parentage/r_data/cumulative_prop_hab_sampled_by_site.RData\")\n",
    "\n",
    "\n",
    "labor <- conlabor()\n",
    "leyte <- conleyte()\n",
    "\n",
    "\n",
    "\n",
    "# download the fish_Obsfile\n",
    "download.file(url = \"https://github.com/pinskylab/genomics/blob/master/data/fish-obs.RData?raw=true\", destfile = \"~/parentage/r_data/fish-obs.RData\")\n",
    "\n",
    "# read in the data\n",
    "fish_obs <- readRDS(\"~/parentage/r_data/fish-obs.RData\") \n",
    "\n"
   ]
  },
  {
   "cell_type": "code",
   "execution_count": null,
   "metadata": {},
   "outputs": [],
   "source": []
  },
  {
   "cell_type": "code",
   "execution_count": 22,
   "metadata": {},
   "outputs": [
    {
     "name": "stderr",
     "output_type": "stream",
     "text": [
      "Warning message in bind_rows_(x, .id):\n",
      "“binding factor and character vector, coercing into character vector”Warning message in bind_rows_(x, .id):\n",
      "“binding character and factor vector, coercing into character vector”"
     ]
    },
    {
     "data": {
      "text/html": [
       "2396"
      ],
      "text/latex": [
       "2396"
      ],
      "text/markdown": [
       "2396"
      ],
      "text/plain": [
       "[1] 2396"
      ]
     },
     "metadata": {},
     "output_type": "display_data"
    },
    {
     "data": {
      "text/html": [
       "785"
      ],
      "text/latex": [
       "785"
      ],
      "text/markdown": [
       "785"
      ],
      "text/plain": [
       "[1] 785"
      ]
     },
     "metadata": {},
     "output_type": "display_data"
    }
   ],
   "source": [
    "#read in parentage matches\n",
    "mums <- read.csv(file=\"~/parentage/colony2/20190523_1340loci/results/1340_colony_migest_mums_allyears.csv\", header=TRUE)\n",
    "dads <- read.csv(file=\"~/parentage/colony2/20190523_1340loci/results/1340_colony_migest_dads_allyears.csv\", header=TRUE)\n",
    "N_trios <- read.csv(file=\"~/parentage/colony2/20190523_1340loci/results/1340_colony_migest_trios_allyears.csv\", header=TRUE)\n",
    "\n",
    "#read in demography estimates\n",
    "prop_samp <- cumulative_prop_hab_sampled_by_site %>%\n",
    "    mutate(total_possible_sample_anems = ifelse(site==\"Caridad Proper\", 4, total_possible_sample_anems) ) %>%\n",
    "    mutate(total_prop_hab_sampled_anems_tidied= ifelse(site==\"Caridad Proper\" & total_anems_sampled==4, 1, total_prop_hab_sampled_anems_tidied) ) %>%\n",
    "    mutate(total_possible_sample_anems = ifelse(site==\"Sitio Lonas\", total_anems_sampled, total_possible_sample_anems) ) %>%\n",
    "    mutate(total_prop_hab_sampled_anems_tidied= ifelse(site==\"Sitio Lonas\", 1, total_prop_hab_sampled_anems_tidied) ) %>%\n",
    "    select(site, end_year, total_prop_hab_sampled_anems_tidied) %>%\n",
    "    rename(prop_habitat_sampled = \"total_prop_hab_sampled_anems_tidied\", year=\"end_year\") \n",
    "\n",
    "\n",
    "prop_samp$prop_habitat_sampled[is.nan(prop_samp$prop_habitat_sampled)] <- 0\n",
    "#prop_samp$site <- gsub(\". \", \".\", prop_samp$site, fixed=TRUE)\n",
    "\n",
    "#prop_samp_annual <- sampled_area_each_year %>%\n",
    "#    filter(method==\"metal tags\"& total_area_method==\"anems tidied\") %>%\n",
    "#    select(time_frame, site, prop_hab_sampled_tidied)\n",
    "#prop_samp_annual$site <- gsub(\". \", \".\", prop_samp_annual$site, fixed=TRUE)\n",
    "#\n",
    "#\n",
    "#\n",
    "##read in the sites which we sampled each year\n",
    "N_gen_par <- read.table(file=\"~/parentage/colony2/20190523_1340loci/input/all_parents_corrected.txt\", header = TRUE) %>% #not sure that I need the parents here\n",
    "    select(year, sample_id, fish_indiv)\n",
    "\n",
    "N_gen_offs <- read.table(file=\"~/parentage/colony2/20190523_1340loci/input/all_offspring_corrected.txt\", header=T, stringsAsFactors = F) %>%\n",
    "    select(year, sample_id, fish_indiv) \n",
    "\n",
    "total_gen <- bind_rows(N_gen_par, N_gen_offs)\n",
    "\n",
    "meta <- get_fish() %>% #get all identifying info for a sample\n",
    "    filter(sample_id %in% total_gen$sample_id | sample_id %in% total_gen$sample_id ) %>%\n",
    "    distinct(sample_id, .keep_all = T) %>% \n",
    "    select(site, sample_id)\n",
    "    \n",
    "N_cap <- left_join(total_gen, meta, by=\"sample_id\") %>%\n",
    "    distinct(fish_indiv, .keep_all = T) %>%\n",
    "    group_by(site, year) %>%\n",
    "    summarise(n_cap=n())\n",
    "\n",
    "N_cap_offs <- left_join(total_gen, meta, by=\"sample_id\") %>%\n",
    "    filter(sample_id %in% N_gen_offs$sample_id) %>%\n",
    "    distinct(fish_indiv, .keep_all = T) %>%\n",
    "    group_by(site, year) %>%\n",
    "    summarise(n_cap=n())\n",
    "\n",
    "sum(N_cap$n_cap) #should be 2396\n",
    "sum(N_cap_offs$n_cap) #should be 785\n",
    "\n",
    "\n",
    "\n",
    "#TEST for short distance dispersal patterns\n",
    "#mums <- read.csv(file=\"~/migest/input/20180910colony_migest_testmums_shortdist.csv\", header=TRUE)\n",
    "#dads <- read.csv(file=\"~/migest/input/20180910colony_migest_testdads_shortdist.csv\", header=TRUE)\n",
    "#N_trios <- read.csv(file=\"~/migest/input/20180910colony_migest_testtrios_allyears.csv\", header=TRUE)\n",
    "\n",
    "\n",
    "\n",
    "##UPDATE NEXT\n",
    "#read in demography estimates\n",
    "#prop_samp <- read.csv(file=\"~/migest/input/20181017prop_habitat_samp.csv\", header=TRUE)\n",
    "#N_cap <- read.csv(file=\"~/migest/input/20181017_Nsampled.csv\", header = TRUE)\n",
    "#N_cap_offs <- read.csv(file=\"~/migest/input/20181017_Nsampled_offs.csv\")"
   ]
  },
  {
   "cell_type": "code",
   "execution_count": 3,
   "metadata": {},
   "outputs": [],
   "source": [
    "#iterate the input generation over all sites"
   ]
  },
  {
   "cell_type": "code",
   "execution_count": 4,
   "metadata": {},
   "outputs": [],
   "source": [
    "#generate site list\n",
    "prop_samp$site <- as.character(prop_samp$site)\n",
    "prop_samp <- prop_samp %>% \n",
    "    arrange(site)%>%\n",
    "    group_by(site) %>% #use these three bottom lines for average all years\n",
    "    mutate(prop_habitat_sampled=mean(prop_habitat_sampled)) %>%\n",
    "    distinct(site, .keep_all = TRUE) %>%\n",
    "    select(-year) %>%\n",
    "    ungroup()\n",
    "#for annual\n",
    "#prop_samp$year <- as.numeric(prop_samp$year)\n",
    "\n",
    "prop_samp$prop_habitat_sampled <- round(prop_samp$prop_habitat_sampled, digits=4)\n"
   ]
  },
  {
   "cell_type": "code",
   "execution_count": 261,
   "metadata": {},
   "outputs": [],
   "source": [
    "#there has to be a more elegant way to make an iput file per year, but for now, just manually filter N_cap, N_cap_offs, N_trios, and mums/dads to evaluate for in the for loop\n",
    "mums <- mums %>%\n",
    "    filter(year==2018)\n",
    "dads <- dads %>%\n",
    "    filter(year==2018)\n",
    "N_trios <- N_trios %>%\n",
    "    filter(year== 2018)\n",
    "N_cap_offs <- N_cap_offs %>%\n",
    "    filter(year==2018)\n",
    "N_cap <- N_cap %>%\n",
    "    filter(year==2018)\n",
    "prop_samp <- prop_samp %>%    \n",
    "    filter(year==2018) %>%\n",
    "    ungroup() %>%\n",
    "    select(site, prop_habitat_sampled)"
   ]
  },
  {
   "cell_type": "code",
   "execution_count": 8,
   "metadata": {},
   "outputs": [
    {
     "data": {
      "text/html": [
       "24"
      ],
      "text/latex": [
       "24"
      ],
      "text/markdown": [
       "24"
      ],
      "text/plain": [
       "[1] 24"
      ]
     },
     "metadata": {},
     "output_type": "display_data"
    },
    {
     "data": {
      "text/html": [
       "20"
      ],
      "text/latex": [
       "20"
      ],
      "text/markdown": [
       "20"
      ],
      "text/plain": [
       "[1] 20"
      ]
     },
     "metadata": {},
     "output_type": "display_data"
    },
    {
     "data": {
      "text/html": [
       "18"
      ],
      "text/latex": [
       "18"
      ],
      "text/markdown": [
       "18"
      ],
      "text/plain": [
       "[1] 18"
      ]
     },
     "metadata": {},
     "output_type": "display_data"
    }
   ],
   "source": [
    "sum(N_trios$n_trios)\n",
    "sum(mums$n_mum)\n",
    "sum(dads$n_dad)"
   ]
  },
  {
   "cell_type": "code",
   "execution_count": 5,
   "metadata": {},
   "outputs": [
    {
     "name": "stderr",
     "output_type": "stream",
     "text": [
      "Joining, by = \"site\"\n"
     ]
    }
   ],
   "source": [
    "#table of number of adults sampled\n",
    "\n",
    "N_cap$year <- as.numeric(N_cap$year)\n",
    "#N_cap2 <- N_cap %>%\n",
    "#filter(year >= 2018 & year <= 2018) %>%\n",
    "#group_by(site) %>%\n",
    "#summarise(sampled_fish=sum(n_captured_fish))\n",
    "    \n",
    "N_cap2 <- N_cap %>%\n",
    "    ungroup() %>%\n",
    "    group_by(site) %>%\n",
    "    mutate(n_male=(n_cap/2)) %>%\n",
    "    mutate(n_female=(n_cap/2)) \n",
    "#######\n",
    "#allyear \n",
    "cap_f <- N_cap2 %>% \n",
    "    group_by(site) %>%\n",
    "    summarise(n_female=sum(n_female))\n",
    "cap_f$n_female <- floor(cap_f$n_female)\n",
    "\n",
    "cap_m <- N_cap2 %>% \n",
    "    group_by(site) %>%\n",
    "    summarise(n_male=sum(n_male))\n",
    "cap_m$n_male <- ceiling(cap_m$n_male)\n",
    "\n",
    "\n",
    "N_cap2 <- left_join(cap_f, cap_m)\n",
    "\n",
    "#######\n",
    "#table of number of juveniles sampled\n",
    "#N_cap_offs$year <- as.numeric(N_cap_offs$year)#careful with numeric vs character for year\n",
    "N_cap_offs2 <- N_cap_offs %>%\n",
    "    group_by(site) %>%\n",
    "    summarise(sampled_fish=sum(n_cap))%>%\n",
    "    ungroup()\n",
    "\n",
    "\n",
    "N_cap_offs2$sampled_fish <- round(N_cap_offs2$sampled_fish, digits=0)\n",
    "\n"
   ]
  },
  {
   "cell_type": "code",
   "execution_count": null,
   "metadata": {},
   "outputs": [],
   "source": []
  },
  {
   "cell_type": "code",
   "execution_count": null,
   "metadata": {},
   "outputs": [],
   "source": []
  },
  {
   "cell_type": "code",
   "execution_count": null,
   "metadata": {},
   "outputs": [],
   "source": []
  },
  {
   "cell_type": "code",
   "execution_count": 6,
   "metadata": {},
   "outputs": [],
   "source": [
    "#use Ncap to generate sites list\n",
    "sites1 <- N_cap_offs2 %>%\n",
    "    ungroup() %>%\n",
    "    select(site) %>%\n",
    "    arrange(site)\n",
    "\n",
    "sites2 <- N_cap2 %>%\n",
    "    ungroup() %>%\n",
    "    select(site) %>%\n",
    "    arrange(site)\n",
    "sites <- bind_rows(sites1, sites2)\n",
    "sites <- sites %>%\n",
    "    group_by(site) %>%\n",
    "    filter(row_number()==1) %>%\n",
    "    ungroup() %>%\n",
    "    arrange(site)\n",
    "sites$site <- as.character(sites$site)\n",
    "#migest won't take site names, just pop numbers. The sites are in alphabetical order, here is their order with corresponding pop numbers\n",
    "sites$pop <- c(seq(from=1, to=nrow(sites), by=1))\n",
    "\n",
    "\n"
   ]
  },
  {
   "cell_type": "code",
   "execution_count": 7,
   "metadata": {},
   "outputs": [
    {
     "data": {
      "text/html": [
       "<table>\n",
       "<thead><tr><th scope=col>site</th><th scope=col>year</th><th scope=col>n_cap</th></tr></thead>\n",
       "<tbody>\n",
       "\t<tr><td>Cabatoan</td><td>2012    </td><td>17      </td></tr>\n",
       "\t<tr><td>Cabatoan</td><td>2013    </td><td>11      </td></tr>\n",
       "\t<tr><td>Cabatoan</td><td>2014    </td><td> 7      </td></tr>\n",
       "\t<tr><td>Cabatoan</td><td>2015    </td><td>32      </td></tr>\n",
       "\t<tr><td>Cabatoan</td><td>2016    </td><td>28      </td></tr>\n",
       "\t<tr><td>Cabatoan</td><td>2018    </td><td> 9      </td></tr>\n",
       "</tbody>\n",
       "</table>\n"
      ],
      "text/latex": [
       "\\begin{tabular}{r|lll}\n",
       " site & year & n\\_cap\\\\\n",
       "\\hline\n",
       "\t Cabatoan & 2012     & 17      \\\\\n",
       "\t Cabatoan & 2013     & 11      \\\\\n",
       "\t Cabatoan & 2014     &  7      \\\\\n",
       "\t Cabatoan & 2015     & 32      \\\\\n",
       "\t Cabatoan & 2016     & 28      \\\\\n",
       "\t Cabatoan & 2018     &  9      \\\\\n",
       "\\end{tabular}\n"
      ],
      "text/markdown": [
       "\n",
       "site | year | n_cap | \n",
       "|---|---|---|---|---|---|\n",
       "| Cabatoan | 2012     | 17       | \n",
       "| Cabatoan | 2013     | 11       | \n",
       "| Cabatoan | 2014     |  7       | \n",
       "| Cabatoan | 2015     | 32       | \n",
       "| Cabatoan | 2016     | 28       | \n",
       "| Cabatoan | 2018     |  9       | \n",
       "\n",
       "\n"
      ],
      "text/plain": [
       "  site     year n_cap\n",
       "1 Cabatoan 2012 17   \n",
       "2 Cabatoan 2013 11   \n",
       "3 Cabatoan 2014  7   \n",
       "4 Cabatoan 2015 32   \n",
       "5 Cabatoan 2016 28   \n",
       "6 Cabatoan 2018  9   "
      ]
     },
     "metadata": {},
     "output_type": "display_data"
    }
   ],
   "source": [
    "head(N_cap)"
   ]
  },
  {
   "cell_type": "code",
   "execution_count": 8,
   "metadata": {},
   "outputs": [],
   "source": [
    "#create empty data frame to add individual site tables to \n",
    "empt_dat2 <- as.data.frame(matrix(nrow=0, ncol=(nrow(sites))))\n",
    "col <- c(sites$pop)\n",
    "colnames(empt_dat2) <- col\n",
    "\n",
    "#create an empty data frame to store site names\n",
    "site_inc <- as.data.frame(matrix(nrow=0, ncol=1))\n",
    "col <- \"site\"\n",
    "colnames(site_inc) <- col\n",
    "\n",
    "#check for correct parentage sum in these matrices at the end\n",
    "sum_par <- as.data.frame(matrix(nrow=nrow(sites), ncol=1))\n",
    "sum_trios <- as.data.frame(matrix(nrow=nrow(sites), ncol=1))\n",
    "\n",
    "\n"
   ]
  },
  {
   "cell_type": "code",
   "execution_count": 9,
   "metadata": {},
   "outputs": [],
   "source": [
    "for(i in 1:length(sites$site)){\n",
    "    site_eval <-  sites$site[i]\n",
    "    #prepare the parentage matrix input\n",
    "  \n",
    "     if(site_eval %in% mums$offs_site){\n",
    "    site_matF <- mums %>%\n",
    "        filter(offs_site == site_eval) %>%\n",
    "        select(offs_site, par_site, n_mum) %>%\n",
    "        group_by(offs_site, par_site) %>%\n",
    "        summarise(n_mum=(sum(n_mum))) }\n",
    "    else {site_matF <- as.data.frame(matrix(nrow=1, ncol=3))\n",
    "          site_matF[1,1] <- site_eval\n",
    "          site_matF[1,2] <- site_eval\n",
    "          site_matF[1,3] <- 0\n",
    "          col <- c(\"offs_site\", \"par_site\", \"n_mum\")\n",
    "        colnames(site_matF) <- col\n",
    "         }\n",
    "    site_matF2 <- suppressWarnings(left_join(sites, site_matF, by=c(site =\"par_site\"))) \n",
    "        site_matF3 <- site_matF2 %>%\n",
    "        select(n_mum)\n",
    "\n",
    "    if(site_eval %in% dads$offs_site){\n",
    "    site_matM <- dads %>%\n",
    "        filter(offs_site == site_eval) %>%\n",
    "        select(offs_site, par_site, n_dad) %>%\n",
    "        group_by(offs_site, par_site) %>%\n",
    "        summarise(n_dad=(sum(n_dad))) }\n",
    "    else {site_matM <- as.data.frame(matrix(nrow=1, ncol=3))\n",
    "          site_matM[1,1] <- site_eval\n",
    "          site_matM[1,2] <- site_eval\n",
    "          site_matM[1,3] <- 0\n",
    "          col <- c(\"offs_site\", \"par_site\", \"n_dad\")\n",
    "        colnames(site_matM) <- col\n",
    "         }\n",
    "    site_matM2 <- suppressWarnings(left_join(sites, site_matM, by=c(site =\"par_site\"))) \n",
    "        site_matM3 <- site_matM2 %>%\n",
    "        select(n_dad)\n",
    "    \n",
    "#now bind_cols\n",
    "       #order matters here--> mums need to be in the righthand column, join so sites without matches appear as zero values rather than absent\n",
    "   site_mat_fin <- bind_cols(site_matM3, site_matF3)\n",
    "        \n",
    "    #need to transpose so that it's formatted for migest\n",
    "    site_mat_T <- as.data.frame(t(site_mat_fin))\n",
    "    site_mat_T[is.na(site_mat_T)] <- 0\n",
    "    \n",
    "    #generate header\n",
    "    site_head <- as.data.frame(matrix(nrow=2, ncol=2))\n",
    "    col <- c(\"male\", \"female\")\n",
    "    colnames(site_head) <- col\n",
    "    \n",
    "    #proportion sampled\n",
    "    if(site_eval %in% N_cap2$site){\n",
    "    site_head_prop <- prop_samp %>% \n",
    "    filter(site== site_eval) %>%\n",
    "    rename(n_or_p=\"prop_habitat_sampled\") }\n",
    "    else {site_head_prop <- as.data.frame(matrix(nrow=1, ncol=1))\n",
    "          site_head_prop[1,1] <- 0\n",
    "          col <- \"n_or_p\"\n",
    "        colnames(site_head_prop) <- col\n",
    "        \n",
    "    }\n",
    "    \n",
    "    \n",
    "    #number of captured adults\n",
    "    if(site_eval %in% N_cap2$site){\n",
    "        site_head_ncap <- N_cap2 %>%\n",
    "        filter(site== site_eval) %>%\n",
    "        select(n_male, n_female) %>%\n",
    "        rename(n_or_p_M=\"n_male\", n_or_p_F=\"n_female\")} \n",
    "    else {site_head_ncap <- as.data.frame(matrix(nrow=1, ncol=2))\n",
    "          site_head_ncap[1,1] <- 0\n",
    "          site_head_ncap[1,2] <- 0\n",
    "          col <- c(\"n_or_p_M\", \"n_or_p_F\")\n",
    "        colnames(site_head_ncap) <- col\n",
    "         }\n",
    "    \n",
    "    #make a male/female column of proportion sampled\n",
    "    site_head_prop2 <- site_head_prop %>%\n",
    "    select(n_or_p) %>%\n",
    "    mutate(n_or_p_F=n_or_p) %>%\n",
    "    rename(n_or_p_M=n_or_p)\n",
    "    \n",
    "    #bind header rows\n",
    "    site_head <- bind_rows(site_head_prop2, site_head_ncap)\n",
    "    \n",
    "    #add 16 extra columns so the table writes properly\n",
    "    empt_dat1 <- as.data.frame(matrix(nrow=2, ncol=(nrow(sites)-2)))\n",
    "    site_head2 <- bind_cols(site_head, empt_dat1)\n",
    "    \n",
    "    #rename columns consistently for binding\n",
    "    col <- c(sites$pop)\n",
    "    colnames(site_head2) <- col\n",
    "    colnames(site_mat_T) <- col\n",
    "    \n",
    "    #add the parentage matrix\n",
    "    site_with_parmat <- bind_rows(site_head2, site_mat_T)\n",
    "    \n",
    "    #add trio counts\n",
    "    site_trios <- N_trios %>%\n",
    "    filter(offs_site==site_eval)\n",
    "    #filter(year %in% year)\n",
    "\n",
    "\n",
    "    \n",
    "    site_trios_with_sites <- suppressWarnings(left_join(sites, site_trios, by=c(site=\"par_site\")))\n",
    "    site_trios_with_sites <- site_trios_with_sites %>% select(n_trios)\n",
    "    site_trios_with_sites_T <- as.data.frame(t(site_trios_with_sites))\n",
    "    site_trios_with_sites_T[is.na(site_trios_with_sites_T)] <- 0\n",
    "    \n",
    "    #bind trios to parentage matrix\n",
    "    colnames(site_trios_with_sites_T) <- col\n",
    "    site_trios_with_sites_T[is.na(site_trios_with_sites_T)] <- 0\n",
    "    site_with_trios <- bind_rows(site_with_parmat, site_trios_with_sites_T)\n",
    "    \n",
    "    #add the number of offspring sampled\n",
    "    if(site_eval %in% N_cap_offs2$site){\n",
    "    site_offs <- N_cap_offs2 %>%\n",
    "    filter(site== site_eval) %>%\n",
    "    select(sampled_fish)}\n",
    "    else {site_offs <- as.data.frame(matrix(nrow=1, ncol=1))\n",
    "          site_offs[1,1] <- 0\n",
    "           }\n",
    "    \n",
    "    #build data frame for offspring sampled count\n",
    "    offs_dat <- as.data.frame(matrix(nrow=1, ncol=nrow(sites)))\n",
    "    offs_dat[1,1] <- site_offs\n",
    "    colnames(offs_dat) <- col\n",
    "    \n",
    "    #pull together whole data table\n",
    "    site_with_offs <- bind_rows(site_with_trios, offs_dat) #site_with_offs\n",
    "    \n",
    "    #add space line so populations are separeated in the input table\n",
    "    space <- as.data.frame(matrix(nrow=1, ncol=(nrow(sites))))\n",
    "    colnames(space) <- col\n",
    "    site_fin <- bind_rows(site_with_offs, space)\n",
    "    colnames(site_fin) <- col\n",
    "    \n",
    "    #bind together complete tables for each site\n",
    "    if(rowSums(site_fin[2,], na.rm=TRUE)>0) {empt_dat2 <- bind_rows(empt_dat2, site_fin)}\n",
    "    \n",
    "    #check sums of parentage matches\n",
    "    sum_par[i,] <-(sum(site_mat_T, na.rm=TRUE))\n",
    "    sum_trios[i,] <-(sum(site_trios_with_sites_T, na.rm=TRUE))\n",
    "    \n",
    "    #output sites included\n",
    "    site_eval <- as.data.frame(site_eval)\n",
    "    col <- \"site\"\n",
    "    colnames(site_eval) <- col\n",
    "    site_eval$site <- as.character(site_eval$site)\n",
    "    if(rowSums(site_fin[2,], na.rm=TRUE)>0) {site_inc <- bind_rows(site_inc, site_eval)}\n",
    "\n",
    "}\n",
    "       "
   ]
  },
  {
   "cell_type": "code",
   "execution_count": 10,
   "metadata": {
    "scrolled": false
   },
   "outputs": [
    {
     "data": {
      "text/html": [
       "<ol class=list-inline>\n",
       "\t<li>133</li>\n",
       "\t<li>20</li>\n",
       "</ol>\n"
      ],
      "text/latex": [
       "\\begin{enumerate*}\n",
       "\\item 133\n",
       "\\item 20\n",
       "\\end{enumerate*}\n"
      ],
      "text/markdown": [
       "1. 133\n",
       "2. 20\n",
       "\n",
       "\n"
      ],
      "text/plain": [
       "[1] 133  20"
      ]
     },
     "metadata": {},
     "output_type": "display_data"
    }
   ],
   "source": [
    "dim(empt_dat2) #should be npop*7 X npop"
   ]
  },
  {
   "cell_type": "code",
   "execution_count": null,
   "metadata": {},
   "outputs": [],
   "source": []
  },
  {
   "cell_type": "code",
   "execution_count": 11,
   "metadata": {},
   "outputs": [
    {
     "data": {
      "text/html": [
       "18"
      ],
      "text/latex": [
       "18"
      ],
      "text/markdown": [
       "18"
      ],
      "text/plain": [
       "[1] 18"
      ]
     },
     "metadata": {},
     "output_type": "display_data"
    },
    {
     "data": {
      "text/html": [
       "20"
      ],
      "text/latex": [
       "20"
      ],
      "text/markdown": [
       "20"
      ],
      "text/plain": [
       "[1] 20"
      ]
     },
     "metadata": {},
     "output_type": "display_data"
    }
   ],
   "source": [
    "sum(dads$n_dad, na.rm= TRUE)\n",
    "sum(mums$n_mum, na.rm=TRUE)\n",
    "#should add to 76, plus 14 trios and we have 90"
   ]
  },
  {
   "cell_type": "code",
   "execution_count": 12,
   "metadata": {},
   "outputs": [
    {
     "data": {
      "text/html": [
       "38"
      ],
      "text/latex": [
       "38"
      ],
      "text/markdown": [
       "38"
      ],
      "text/plain": [
       "[1] 38"
      ]
     },
     "metadata": {},
     "output_type": "display_data"
    }
   ],
   "source": [
    "sum(sum_par, na.rm=TRUE) #should match the number of singular parentage matches"
   ]
  },
  {
   "cell_type": "code",
   "execution_count": 13,
   "metadata": {},
   "outputs": [
    {
     "data": {
      "text/html": [
       "24"
      ],
      "text/latex": [
       "24"
      ],
      "text/markdown": [
       "24"
      ],
      "text/plain": [
       "[1] 24"
      ]
     },
     "metadata": {},
     "output_type": "display_data"
    }
   ],
   "source": [
    "\n",
    "sum(sum_trios, na.rm=TRUE) #should match the number of trios"
   ]
  },
  {
   "cell_type": "code",
   "execution_count": 14,
   "metadata": {},
   "outputs": [
    {
     "data": {
      "text/html": [
       "62"
      ],
      "text/latex": [
       "62"
      ],
      "text/markdown": [
       "62"
      ],
      "text/plain": [
       "[1] 62"
      ]
     },
     "metadata": {},
     "output_type": "display_data"
    }
   ],
   "source": [
    "24+38"
   ]
  },
  {
   "cell_type": "code",
   "execution_count": 15,
   "metadata": {},
   "outputs": [
    {
     "data": {
      "text/html": [
       "19"
      ],
      "text/latex": [
       "19"
      ],
      "text/markdown": [
       "19"
      ],
      "text/plain": [
       "[1] 19"
      ]
     },
     "metadata": {},
     "output_type": "display_data"
    }
   ],
   "source": [
    "n_pop <- nrow(empt_dat2)/7\n",
    "n_pop"
   ]
  },
  {
   "cell_type": "code",
   "execution_count": null,
   "metadata": {},
   "outputs": [],
   "source": []
  },
  {
   "cell_type": "code",
   "execution_count": 16,
   "metadata": {
    "scrolled": true
   },
   "outputs": [
    {
     "data": {
      "text/html": [
       "<ol class=list-inline>\n",
       "\t<li>19</li>\n",
       "\t<li>2</li>\n",
       "</ol>\n"
      ],
      "text/latex": [
       "\\begin{enumerate*}\n",
       "\\item 19\n",
       "\\item 2\n",
       "\\end{enumerate*}\n"
      ],
      "text/markdown": [
       "1. 19\n",
       "2. 2\n",
       "\n",
       "\n"
      ],
      "text/plain": [
       "[1] 19  2"
      ]
     },
     "metadata": {},
     "output_type": "display_data"
    }
   ],
   "source": [
    "#write the site lists for use in processing output\n",
    "sites_fin <- site_inc %>%\n",
    "    select(site) \n",
    "\n",
    "sites_fin$pop <- seq(from=1, to=n_pop, by=1)\n",
    "dim(sites_fin)\n",
    "sites_fin$site <- gsub(\" \", \"_\", sites_fin$site, fixed=TRUE)\n"
   ]
  },
  {
   "cell_type": "code",
   "execution_count": 17,
   "metadata": {},
   "outputs": [],
   "source": [
    "#stupid janky fix\n",
    "empt_dat2 <- empt_dat2[,1:19]"
   ]
  },
  {
   "cell_type": "code",
   "execution_count": 18,
   "metadata": {},
   "outputs": [],
   "source": [
    "#prepare the file table header\n",
    "header <- as.data.frame(matrix(nrow=4, ncol=(nrow(site_inc))))\n",
    "col <- c(sites_fin$pop)\n",
    "colnames(header) <- col\n",
    "header[1,1] <- (nrow(empt_dat2)/7) #7 rows of input for 1 population \n",
    "if((nrow(empt_dat2)/7) < 20){header[2,1] <- 0} else {header[2,1] <- 1} #1 yes all populations sampled, 0 no\n",
    "header[3,1] <- 0.0 #no prior weight for now\n",
    "header[4,1] <- \"Migest_allyears.out\"\n",
    "header_fin <- bind_rows(header, space)"
   ]
  },
  {
   "cell_type": "code",
   "execution_count": 19,
   "metadata": {},
   "outputs": [],
   "source": [
    "migest_in <- rbind(header_fin, empt_dat2)\n"
   ]
  },
  {
   "cell_type": "code",
   "execution_count": 275,
   "metadata": {
    "scrolled": true
   },
   "outputs": [],
   "source": [
    "#migest_in"
   ]
  },
  {
   "cell_type": "code",
   "execution_count": null,
   "metadata": {},
   "outputs": [],
   "source": []
  },
  {
   "cell_type": "code",
   "execution_count": 20,
   "metadata": {},
   "outputs": [],
   "source": [
    "## write the site lists for use in processing output\n",
    "write.table(sites_fin, file=\"~/migest/20190612_1340loci/all_years/input_sites_allyears.txt\", row.names = FALSE, col.names = TRUE, quote=FALSE)"
   ]
  },
  {
   "cell_type": "code",
   "execution_count": 79,
   "metadata": {},
   "outputs": [],
   "source": [
    "write.table(migest_in, file=\"~/migest/20190612_1340loci/all_years/MigEst.in\", quote=FALSE, na=\" \", sep=\" \", col.names=FALSE, row.names=FALSE,)"
   ]
  },
  {
   "cell_type": "code",
   "execution_count": null,
   "metadata": {},
   "outputs": [],
   "source": []
  },
  {
   "cell_type": "code",
   "execution_count": null,
   "metadata": {},
   "outputs": [],
   "source": []
  }
 ],
 "metadata": {
  "kernelspec": {
   "display_name": "R",
   "language": "R",
   "name": "ir"
  },
  "language_info": {
   "codemirror_mode": "r",
   "file_extension": ".r",
   "mimetype": "text/x-r-source",
   "name": "R",
   "pygments_lexer": "r",
   "version": "3.5.1"
  }
 },
 "nbformat": 4,
 "nbformat_minor": 2
}
