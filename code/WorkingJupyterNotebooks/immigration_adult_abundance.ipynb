{
 "cells": [
  {
   "cell_type": "code",
   "execution_count": 6,
   "metadata": {},
   "outputs": [],
   "source": [
    "Packages <- c(\"dplyr\", \"broom\", \"gdata\",\"lme4\", \"ape\",\"vegan\",\"viridis\", \"ggpubr\",\"gridExtra\", \"colorRamps\",\"ggplot2\", \"fields\", \"stringr\", \"reshape2\", \"splitstackshape\", \"readr\", \"dplyr\", \"tidyr\", \"stringr\", \"tidyverse\", \"tibble\", \"ggfortify\", \"lubridate\", \"RColorBrewer\", \"vegan\", \"vcfR\")\n",
    "\n",
    "invisible(suppressPackageStartupMessages(lapply(Packages, library, character.only = TRUE)))\n",
    "\"%!in%\" <- function(x,table) match(x,table, nomatch = 0) == 0\n",
    "\n",
    "\n",
    "setwd('/local/home/katrinac/migest')\n",
    "\n",
    "source(\"~/scripts/conleyte.R\")\n",
    "source(\"~/scripts/conlabor.R\")\n",
    "#labor <- conlabor()\n",
    "#leyte <- conleyte()"
   ]
  },
  {
   "cell_type": "code",
   "execution_count": 7,
   "metadata": {},
   "outputs": [
    {
     "name": "stderr",
     "output_type": "stream",
     "text": [
      "Warning message in eval(expr, envir, enclos):\n",
      "“NAs introduced by coercion”"
     ]
    }
   ],
   "source": [
    "##read data as data frame\n",
    "conndfall <- read.table(\"~/migest/input/conndfall.txt\", header=TRUE, sep=\",\", stringsAsFactors=FALSE)\n",
    "conndf12 <- read.table(\"~/migest/input/conndf2012.txt\", header=TRUE, sep=\",\")\n",
    "conndf13 <- read.table(\"~/migest/input/conndf2013.txt\", header=TRUE, sep=\",\")\n",
    "conndf14 <- read.table(\"~/migest/input/conndf2014.txt\", header=TRUE, sep=\",\")\n",
    "conndf15 <- read.table(\"~/migest/input/conndf2015.txt\", header=TRUE, sep=\",\")\n",
    "#all years together in one df\n",
    "conndf_allyears <- read.table(\"~/migest/input/conndf_allyears.txt\", header=TRUE, sep=\",\", stringsAsFactors=FALSE)\n",
    "#change the years to numeric\n",
    "conndf_allyears$year <- gsub(\"migration_rate\", \"20\", conndf_allyears$year)\n",
    "\n",
    "\n",
    "#read in connectivity matrices \n",
    "\n",
    "connmat_all <- read.table(file=\"~/migest/average_allyears/20180921_prop_samp_corr2/migest_conmat_all.txt\", header=TRUE)\n",
    "connmat12 <- read.table(file=\"~/migest/annual/2012/20180921_prop_samp_corr2/migest_conmat12_2.txt\", header=TRUE)\n",
    "connmat13 <- read.table(file=\"~/migest/annual/2013/20180921_prop_samp_corr2/migest_conmat13_2.txt\", header=TRUE)\n",
    "connmat14 <- read.table(file=\"~/migest/annual/2014/20180921_prop_samp_corr2/migest_conmat14_2.txt\", header=TRUE)\n",
    "connmat15 <- read.table(file=\"~/migest/annual/2015/20180921_prop_samp_corr2/migest_conmat15_2.txt\", header=TRUE)\n",
    "\n",
    "\n",
    "#read in a distance matrix\n",
    "dist <- read.csv(\"~/parentage/kernel_fitting/distance_matrix_header.csv\", header=TRUE,)\n",
    "names(dist) <- gsub(\"\\\\.\", \" \", names(dist))\n",
    "\n",
    "#read in the site codes\n",
    "sites_all <- read.table(file=\"~/migest/average_allyears/20180921_prop_samp_corr2/input_sites_all.txt\", header=TRUE)\n",
    "sites_all$site <- gsub(\"_\", \" \", sites_all$site, fixed=TRUE)\n",
    "sites12 <- read.table(file=\"~/migest/annual/2012/20180921_prop_samp_corr2/input_sites_2012.txt\", header= TRUE)\n",
    "sites12$site <- gsub(\"_\", \" \", sites12$site, fixed=TRUE)\n",
    "sites13 <- read.table(file=\"~/migest/annual/2013/20180921_prop_samp_corr2/input_sites_2013.txt\", header=TRUE)\n",
    "sites13$site <- gsub(\"_\", \" \", sites13$site, fixed=TRUE)\n",
    "sites14 <- read.table(file=\"~/migest/annual/2014/20180921_prop_samp_corr2/input_sites_2014.txt\", header=TRUE)\n",
    "sites14$site <- gsub(\"_\", \" \", sites14$site, fixed=TRUE)\n",
    "sites15 <- read.table(file=\"~/migest/annual/2015/20180921_prop_samp_corr2/input_sites_2015.txt\", header=TRUE)\n",
    "sites15$site <- gsub(\"_\", \" \", sites15$site, fixed=TRUE)\n",
    "\n",
    "#read in site area\n",
    "area <- read.csv(\"~/parentage/kernel_fitting/site_area_header.csv\", header=TRUE,)\n",
    "area$site <- gsub(\"\\\\_\", \" \", area$site)\n",
    "\n",
    "#make list of site names north to south to make distance and connectivity matrices compatible\n",
    "sites_NS <- as.data.frame(dist$site, stringsAsFactors = FALSE) %>% rename(site=\"dist$site\") \n",
    "sites_all_NS <- suppressWarnings(left_join(sites_NS, sites_all, by=\"site\"))\n",
    "#arrange annual site lists NS\n",
    "sites12_NS <- suppressWarnings(inner_join(sites_NS, sites12, by=\"site\"))\n",
    "sites13_NS <- suppressWarnings(inner_join(sites_NS, sites13, by=\"site\"))\n",
    "sites14_NS <- suppressWarnings(inner_join(sites_NS, sites14, by=\"site\"))\n",
    "sites15_NS <- suppressWarnings(inner_join(sites_NS, sites15, by=\"site\"))\n",
    "\n",
    "\n",
    "#make distance matrix for all years connectivity\n",
    "#prep matrices for mantel test\n",
    "\n",
    "#sort sites NS\n",
    "connmat_all_beta <- left_join(sites_all_NS, connmat_all, by=c(pop=\"Pop\"))\n",
    "connmat_all_NS <- connmat_all_beta %>%\n",
    "    select(-Ghost, -pop) %>%\n",
    "    t()\n",
    "\n",
    "##filter the matrix to be symmetric\n",
    "connmat_all_t <- as.data.frame(connmat_all_NS)\n",
    "connmat_all_t$pop <- rownames(connmat_all_t)\n",
    "connmat_all_t$pop <- gsub(\"Pop\", \"\", connmat_all_t$pop)\n",
    "connmat_all_t$pop <- as.numeric(connmat_all_t$pop)\n",
    "connmat_all_NS <- left_join(sites_all_NS, connmat_all_t, by=\"pop\") %>% #only sites sampled in given year\n",
    "    select(-pop, -site) %>%\n",
    "    t() #be sure to check that diagonals are zero, because that's the right format for the mantel test\n",
    "class(connmat_all_NS) <- \"numeric\" #make numeric to convert to Bray distance matrix\n",
    "\n",
    "\n",
    "\n",
    "#annual\n",
    "#2012\n",
    "connmat12_noghost <- connmat12 %>%\n",
    "    select(-Ghost)\n",
    "connmat12_beta <- left_join(sites12_NS, connmat12_noghost, by=c(pop=\"Pop\")) %>% #only sites sampled in given year \n",
    "    select(-pop, -site) %>% #drop site/pop columns, only needed it to sort\n",
    "    t()\n",
    "##filter the matrix to be symmetric\n",
    "connmat12_t <- as.data.frame(connmat12_beta)\n",
    "connmat12_t$pop <- rownames(connmat12_t)\n",
    "connmat12_t$pop <- gsub(\"Pop\", \"\", connmat12_t$pop)\n",
    "connmat12_t$pop <- as.numeric(connmat12_t$pop)\n",
    "connmat12_NS <- left_join(sites12_NS, connmat12_t, by=\"pop\") %>% #only sites sampled in given year\n",
    "    select(-pop, -site) %>%\n",
    "    t() #be sure to check that diagonals are zero, because that's the right format for the mantel test\n",
    "class(connmat12_NS) <- \"numeric\"\n",
    "\n",
    "\n",
    "#2013\n",
    "connmat13_noghost <- connmat13 %>%\n",
    "    select(-Ghost)\n",
    "connmat13_beta <- left_join(sites13_NS, connmat13_noghost, by=c(pop=\"Pop\")) %>% #only sites sampled in given year \n",
    "    select(-pop, -site) %>% #drop site/pop columns, only needed it to sort\n",
    "    t()\n",
    "##filter the matrix to be symmetric\n",
    "connmat13_t <- as.data.frame(connmat13_beta)\n",
    "connmat13_t$pop <- rownames(connmat13_t)\n",
    "connmat13_t$pop <- gsub(\"Pop\", \"\", connmat13_t$pop)\n",
    "connmat13_t$pop <- as.numeric(connmat13_t$pop)\n",
    "connmat13_NS <- left_join(sites13_NS, connmat13_t, by=\"pop\") %>% #only sites sampled in given year\n",
    "    select(-pop, -site) %>%\n",
    "    t() #be sure to check that diagonals are zero, because that's the right format for the mantel test\n",
    "class(connmat13_NS) <- \"numeric\"\n",
    "\n",
    "\n",
    "#2014\n",
    "connmat14_noghost <- connmat14 %>%\n",
    "    select(-Ghost)\n",
    "connmat14_beta <- left_join(sites14_NS, connmat14_noghost, by=c(pop=\"Pop\")) %>% #only sites sampled in given year \n",
    "    select(-pop, -site) %>% #drop site/pop columns, only needed it to sort\n",
    "    t()\n",
    "##filter the matrix to be symmetric\n",
    "connmat14_t <- as.data.frame(connmat14_beta)\n",
    "connmat14_t$pop <- rownames(connmat14_t)\n",
    "connmat14_t$pop <- gsub(\"Pop\", \"\", connmat14_t$pop)\n",
    "connmat14_t$pop <- as.numeric(connmat14_t$pop)\n",
    "connmat14_NS <- left_join(sites14_NS, connmat14_t, by=\"pop\") %>% #only sites sampled in given year\n",
    "    select(-pop, -site) %>%\n",
    "    t() #be sure to check that diagonals are zero, because that's the right format for the mantel test\n",
    "class(connmat14_NS) <- \"numeric\"\n",
    "\n",
    "\n",
    "#2015\n",
    "connmat15_noghost <- connmat15 %>%\n",
    "    select(-Ghost)\n",
    "connmat15_beta <- left_join(sites15_NS, connmat15_noghost, by=c(pop=\"Pop\")) %>% #only sites sampled in given year \n",
    "    select(-pop, -site) %>% #drop site/pop columns, only needed it to sort\n",
    "    t()\n",
    "##filter the matrix to be symmetric\n",
    "connmat15_t <- as.data.frame(connmat15_beta)\n",
    "connmat15_t$pop <- rownames(connmat15_t)\n",
    "connmat15_t$pop <- gsub(\"Pop\", \"\", connmat15_t$pop)\n",
    "connmat15_t$pop <- as.numeric(connmat15_t$pop)\n",
    "connmat15_NS <- left_join(sites15_NS, connmat15_t, by=\"pop\") %>% #only sites sampled in given year\n",
    "    select(-pop, -site) %>%\n",
    "    t() #be sure to check that diagonals are zero, because that's the right format for the mantel test\n",
    "class(connmat15_NS) <- \"numeric\"\n",
    "\n",
    "\n",
    "\n",
    "\n",
    "\n"
   ]
  },
  {
   "cell_type": "code",
   "execution_count": 40,
   "metadata": {},
   "outputs": [],
   "source": [
    "# estimates of N produced in ~/parentage/notebooks/proportion_sampled_working.ipynb\n",
    "abundance <- read.csv(file=\"~/migest/input/20181017_nadult_estimate.csv\", header=TRUE)\n",
    "#change year to match abundance as character\n",
    "abundance$year <- as.character(abundance$year)"
   ]
  },
  {
   "cell_type": "code",
   "execution_count": 41,
   "metadata": {},
   "outputs": [
    {
     "ename": "ERROR",
     "evalue": "Error in inner_join_impl(x, y, by$x, by$y, suffix$x, suffix$y, check_na_matches(na_matches)): Can't join on 'year' x 'year' because of incompatible types (numeric / character)\n",
     "output_type": "error",
     "traceback": [
      "Error in inner_join_impl(x, y, by$x, by$y, suffix$x, suffix$y, check_na_matches(na_matches)): Can't join on 'year' x 'year' because of incompatible types (numeric / character)\nTraceback:\n",
      "1. inner_join(conndf_allyears, abundance, by = c(source = \"site\", \n .     \"year\")) %>% rename(adult_abundance = Ntotal_bestEst) %>% \n .     select(-n_captured_fish, -mean_prob_r, -prop_habitat_sampled)",
      "2. eval(lhs, parent, parent)",
      "3. eval(lhs, parent, parent)",
      "4. inner_join(conndf_allyears, abundance, by = c(source = \"site\", \n .     \"year\"))",
      "5. inner_join.data.frame(conndf_allyears, abundance, by = c(source = \"site\", \n .     \"year\"))",
      "6. as.data.frame(inner_join(tbl_df(x), y, by = by, copy = copy, \n .     ...))",
      "7. inner_join(tbl_df(x), y, by = by, copy = copy, ...)",
      "8. inner_join.tbl_df(tbl_df(x), y, by = by, copy = copy, ...)",
      "9. inner_join_impl(x, y, by$x, by$y, suffix$x, suffix$y, check_na_matches(na_matches))"
     ]
    }
   ],
   "source": [
    "emig_abundance <- inner_join(conndf_allyears, abundance, by=c(source=\"site\", \"year\")) %>%\n",
    "    rename(adult_abundance = Ntotal_bestEst) %>%\n",
    "    select(-n_captured_fish, -mean_prob_r, -prop_habitat_sampled)\n",
    "    "
   ]
  },
  {
   "cell_type": "code",
   "execution_count": 42,
   "metadata": {},
   "outputs": [
    {
     "data": {
      "image/png": "[encoded data removed]",
      "text/plain": [
       "plot without title"
      ]
     },
     "metadata": {},
     "output_type": "display_data"
    }
   ],
   "source": [
    "plot(emig_abundance$adult_abundance, emig_abundance$migration_rate)"
   ]
  },
  {
   "cell_type": "code",
   "execution_count": 43,
   "metadata": {},
   "outputs": [],
   "source": [
    "emig_abundance_mod <- lm(migration_rate ~ adult_abundance, data= emig_abundance)"
   ]
  },
  {
   "cell_type": "code",
   "execution_count": 44,
   "metadata": {},
   "outputs": [
    {
     "data": {
      "text/plain": [
       "\n",
       "Call:\n",
       "lm(formula = migration_rate ~ adult_abundance, data = emig_abundance)\n",
       "\n",
       "Residuals:\n",
       "     Min       1Q   Median       3Q      Max \n",
       "-0.04568 -0.03105 -0.03051 -0.03031  0.96927 \n",
       "\n",
       "Coefficients:\n",
       "                 Estimate Std. Error t value Pr(>|t|)    \n",
       "(Intercept)     3.030e-02  7.635e-03   3.968 8.24e-05 ***\n",
       "adult_abundance 1.489e-05  2.818e-05   0.528    0.598    \n",
       "---\n",
       "Signif. codes:  0 ‘***’ 0.001 ‘**’ 0.01 ‘*’ 0.05 ‘.’ 0.1 ‘ ’ 1\n",
       "\n",
       "Residual standard error: 0.1502 on 528 degrees of freedom\n",
       "  (114 observations deleted due to missingness)\n",
       "Multiple R-squared:  0.0005281,\tAdjusted R-squared:  -0.001365 \n",
       "F-statistic: 0.279 on 1 and 528 DF,  p-value: 0.5976\n"
      ]
     },
     "metadata": {},
     "output_type": "display_data"
    }
   ],
   "source": [
    "summary(emig_abundance_mod)"
   ]
  },
  {
   "cell_type": "markdown",
   "metadata": {},
   "source": [
    "## so there's no relationship between adult abundances and export rates, at least with these measures of N?"
   ]
  },
  {
   "cell_type": "markdown",
   "metadata": {},
   "source": [
    "### what about just self-recruitment rates?"
   ]
  },
  {
   "cell_type": "code",
   "execution_count": 45,
   "metadata": {},
   "outputs": [],
   "source": [
    "self_abundance <- filter(emig_abundance, source==destination)\n",
    "self_abundance_mod <- lm(migration_rate ~ adult_abundance, data= self_abundance)"
   ]
  },
  {
   "cell_type": "code",
   "execution_count": 46,
   "metadata": {},
   "outputs": [
    {
     "data": {
      "image/png": "[encoded data removed]",
      "text/plain": [
       "plot without title"
      ]
     },
     "metadata": {},
     "output_type": "display_data"
    }
   ],
   "source": [
    "plot(self_abundance$adult_abundance, self_abundance$migration_rate)"
   ]
  },
  {
   "cell_type": "code",
   "execution_count": 47,
   "metadata": {},
   "outputs": [
    {
     "data": {
      "text/plain": [
       "\n",
       "Call:\n",
       "lm(formula = migration_rate ~ adult_abundance, data = self_abundance)\n",
       "\n",
       "Residuals:\n",
       "    Min      1Q  Median      3Q     Max \n",
       "-0.2459 -0.2454 -0.2439  0.2151  0.7723 \n",
       "\n",
       "Coefficients:\n",
       "                  Estimate Std. Error t value Pr(>|t|)   \n",
       "(Intercept)      2.463e-01  7.299e-02   3.375  0.00163 **\n",
       "adult_abundance -4.453e-05  2.777e-04  -0.160  0.87337   \n",
       "---\n",
       "Signif. codes:  0 ‘***’ 0.001 ‘**’ 0.01 ‘*’ 0.05 ‘.’ 0.1 ‘ ’ 1\n",
       "\n",
       "Residual standard error: 0.4087 on 41 degrees of freedom\n",
       "  (3 observations deleted due to missingness)\n",
       "Multiple R-squared:  0.000627,\tAdjusted R-squared:  -0.02375 \n",
       "F-statistic: 0.02572 on 1 and 41 DF,  p-value: 0.8734\n"
      ]
     },
     "metadata": {},
     "output_type": "display_data"
    }
   ],
   "source": [
    "summary(self_abundance_mod)"
   ]
  },
  {
   "cell_type": "markdown",
   "metadata": {},
   "source": [
    "## to verify this-- are adult abundances significantly different from one another?"
   ]
  },
  {
   "cell_type": "code",
   "execution_count": 50,
   "metadata": {},
   "outputs": [
    {
     "data": {
      "text/html": [
       "<table>\n",
       "<thead><tr><th scope=col>source</th><th scope=col>term</th><th scope=col>estimate</th><th scope=col>std.error</th><th scope=col>statistic</th><th scope=col>p.value</th></tr></thead>\n",
       "<tbody>\n",
       "\t<tr><td>Cabatoan         </td><td>(Intercept)      </td><td>8834.782117      </td><td>69545.04178      </td><td> 0.1270368       </td><td>0.8995322        </td></tr>\n",
       "\t<tr><td>Cabatoan         </td><td>year             </td><td>  -4.319582      </td><td>   34.53758      </td><td>-0.1250690       </td><td>0.9010801        </td></tr>\n",
       "\t<tr><td>Caridad Cemetery </td><td>(Intercept)      </td><td>8834.782117      </td><td>69545.04178      </td><td> 0.1270368       </td><td>0.8995322        </td></tr>\n",
       "\t<tr><td>Caridad Cemetery </td><td>year             </td><td>  -4.319582      </td><td>   34.53758      </td><td>-0.1250690       </td><td>0.9010801        </td></tr>\n",
       "\t<tr><td>Elementary School</td><td>(Intercept)      </td><td>8834.782117      </td><td>69545.04178      </td><td> 0.1270368       </td><td>0.8995322        </td></tr>\n",
       "\t<tr><td>Elementary School</td><td>year             </td><td>  -4.319582      </td><td>   34.53758      </td><td>-0.1250690       </td><td>0.9010801        </td></tr>\n",
       "\t<tr><td>Haina            </td><td>(Intercept)      </td><td>8834.782117      </td><td>69545.04178      </td><td> 0.1270368       </td><td>0.8995322        </td></tr>\n",
       "\t<tr><td>Haina            </td><td>year             </td><td>  -4.319582      </td><td>   34.53758      </td><td>-0.1250690       </td><td>0.9010801        </td></tr>\n",
       "\t<tr><td>Hicgop South     </td><td>(Intercept)      </td><td>8834.782117      </td><td>69545.04178      </td><td> 0.1270368       </td><td>0.8995322        </td></tr>\n",
       "\t<tr><td>Hicgop South     </td><td>year             </td><td>  -4.319582      </td><td>   34.53758      </td><td>-0.1250690       </td><td>0.9010801        </td></tr>\n",
       "\t<tr><td>Palanas          </td><td>(Intercept)      </td><td>8834.782117      </td><td>69545.04178      </td><td> 0.1270368       </td><td>0.8995322        </td></tr>\n",
       "\t<tr><td>Palanas          </td><td>year             </td><td>  -4.319582      </td><td>   34.53758      </td><td>-0.1250690       </td><td>0.9010801        </td></tr>\n",
       "\t<tr><td>Poroc Rose       </td><td>(Intercept)      </td><td>8834.782117      </td><td>69545.04178      </td><td> 0.1270368       </td><td>0.8995322        </td></tr>\n",
       "\t<tr><td>Poroc Rose       </td><td>year             </td><td>  -4.319582      </td><td>   34.53758      </td><td>-0.1250690       </td><td>0.9010801        </td></tr>\n",
       "\t<tr><td>Poroc San Flower </td><td>(Intercept)      </td><td>8834.782117      </td><td>69545.04178      </td><td> 0.1270368       </td><td>0.8995322        </td></tr>\n",
       "\t<tr><td>Poroc San Flower </td><td>year             </td><td>  -4.319582      </td><td>   34.53758      </td><td>-0.1250690       </td><td>0.9010801        </td></tr>\n",
       "\t<tr><td>San Agustin      </td><td>(Intercept)      </td><td>8834.782117      </td><td>69545.04178      </td><td> 0.1270368       </td><td>0.8995322        </td></tr>\n",
       "\t<tr><td>San Agustin      </td><td>year             </td><td>  -4.319582      </td><td>   34.53758      </td><td>-0.1250690       </td><td>0.9010801        </td></tr>\n",
       "\t<tr><td>Sitio Baybayon   </td><td>(Intercept)      </td><td>8834.782117      </td><td>69545.04178      </td><td> 0.1270368       </td><td>0.8995322        </td></tr>\n",
       "\t<tr><td>Sitio Baybayon   </td><td>year             </td><td>  -4.319582      </td><td>   34.53758      </td><td>-0.1250690       </td><td>0.9010801        </td></tr>\n",
       "\t<tr><td>Tamakin Dacot    </td><td>(Intercept)      </td><td>8834.782117      </td><td>69545.04178      </td><td> 0.1270368       </td><td>0.8995322        </td></tr>\n",
       "\t<tr><td>Tamakin Dacot    </td><td>year             </td><td>  -4.319582      </td><td>   34.53758      </td><td>-0.1250690       </td><td>0.9010801        </td></tr>\n",
       "\t<tr><td>Visca            </td><td>(Intercept)      </td><td>8834.782117      </td><td>69545.04178      </td><td> 0.1270368       </td><td>0.8995322        </td></tr>\n",
       "\t<tr><td>Visca            </td><td>year             </td><td>  -4.319582      </td><td>   34.53758      </td><td>-0.1250690       </td><td>0.9010801        </td></tr>\n",
       "\t<tr><td>Wangag           </td><td>(Intercept)      </td><td>8834.782117      </td><td>69545.04178      </td><td> 0.1270368       </td><td>0.8995322        </td></tr>\n",
       "\t<tr><td>Wangag           </td><td>year             </td><td>  -4.319582      </td><td>   34.53758      </td><td>-0.1250690       </td><td>0.9010801        </td></tr>\n",
       "</tbody>\n",
       "</table>\n"
      ],
      "text/latex": [
       "\\begin{tabular}{r|llllll}\n",
       " source & term & estimate & std.error & statistic & p.value\\\\\n",
       "\\hline\n",
       "\t Cabatoan          & (Intercept)       & 8834.782117       & 69545.04178       &  0.1270368        & 0.8995322        \\\\\n",
       "\t Cabatoan          & year              &   -4.319582       &    34.53758       & -0.1250690        & 0.9010801        \\\\\n",
       "\t Caridad Cemetery  & (Intercept)       & 8834.782117       & 69545.04178       &  0.1270368        & 0.8995322        \\\\\n",
       "\t Caridad Cemetery  & year              &   -4.319582       &    34.53758       & -0.1250690        & 0.9010801        \\\\\n",
       "\t Elementary School & (Intercept)       & 8834.782117       & 69545.04178       &  0.1270368        & 0.8995322        \\\\\n",
       "\t Elementary School & year              &   -4.319582       &    34.53758       & -0.1250690        & 0.9010801        \\\\\n",
       "\t Haina             & (Intercept)       & 8834.782117       & 69545.04178       &  0.1270368        & 0.8995322        \\\\\n",
       "\t Haina             & year              &   -4.319582       &    34.53758       & -0.1250690        & 0.9010801        \\\\\n",
       "\t Hicgop South      & (Intercept)       & 8834.782117       & 69545.04178       &  0.1270368        & 0.8995322        \\\\\n",
       "\t Hicgop South      & year              &   -4.319582       &    34.53758       & -0.1250690        & 0.9010801        \\\\\n",
       "\t Palanas           & (Intercept)       & 8834.782117       & 69545.04178       &  0.1270368        & 0.8995322        \\\\\n",
       "\t Palanas           & year              &   -4.319582       &    34.53758       & -0.1250690        & 0.9010801        \\\\\n",
       "\t Poroc Rose        & (Intercept)       & 8834.782117       & 69545.04178       &  0.1270368        & 0.8995322        \\\\\n",
       "\t Poroc Rose        & year              &   -4.319582       &    34.53758       & -0.1250690        & 0.9010801        \\\\\n",
       "\t Poroc San Flower  & (Intercept)       & 8834.782117       & 69545.04178       &  0.1270368        & 0.8995322        \\\\\n",
       "\t Poroc San Flower  & year              &   -4.319582       &    34.53758       & -0.1250690        & 0.9010801        \\\\\n",
       "\t San Agustin       & (Intercept)       & 8834.782117       & 69545.04178       &  0.1270368        & 0.8995322        \\\\\n",
       "\t San Agustin       & year              &   -4.319582       &    34.53758       & -0.1250690        & 0.9010801        \\\\\n",
       "\t Sitio Baybayon    & (Intercept)       & 8834.782117       & 69545.04178       &  0.1270368        & 0.8995322        \\\\\n",
       "\t Sitio Baybayon    & year              &   -4.319582       &    34.53758       & -0.1250690        & 0.9010801        \\\\\n",
       "\t Tamakin Dacot     & (Intercept)       & 8834.782117       & 69545.04178       &  0.1270368        & 0.8995322        \\\\\n",
       "\t Tamakin Dacot     & year              &   -4.319582       &    34.53758       & -0.1250690        & 0.9010801        \\\\\n",
       "\t Visca             & (Intercept)       & 8834.782117       & 69545.04178       &  0.1270368        & 0.8995322        \\\\\n",
       "\t Visca             & year              &   -4.319582       &    34.53758       & -0.1250690        & 0.9010801        \\\\\n",
       "\t Wangag            & (Intercept)       & 8834.782117       & 69545.04178       &  0.1270368        & 0.8995322        \\\\\n",
       "\t Wangag            & year              &   -4.319582       &    34.53758       & -0.1250690        & 0.9010801        \\\\\n",
       "\\end{tabular}\n"
      ],
      "text/markdown": [
       "\n",
       "source | term | estimate | std.error | statistic | p.value | \n",
       "|---|---|---|---|---|---|---|---|---|---|---|---|---|---|---|---|---|---|---|---|---|---|---|---|---|---|\n",
       "| Cabatoan          | (Intercept)       | 8834.782117       | 69545.04178       |  0.1270368        | 0.8995322         | \n",
       "| Cabatoan          | year              |   -4.319582       |    34.53758       | -0.1250690        | 0.9010801         | \n",
       "| Caridad Cemetery  | (Intercept)       | 8834.782117       | 69545.04178       |  0.1270368        | 0.8995322         | \n",
       "| Caridad Cemetery  | year              |   -4.319582       |    34.53758       | -0.1250690        | 0.9010801         | \n",
       "| Elementary School | (Intercept)       | 8834.782117       | 69545.04178       |  0.1270368        | 0.8995322         | \n",
       "| Elementary School | year              |   -4.319582       |    34.53758       | -0.1250690        | 0.9010801         | \n",
       "| Haina             | (Intercept)       | 8834.782117       | 69545.04178       |  0.1270368        | 0.8995322         | \n",
       "| Haina             | year              |   -4.319582       |    34.53758       | -0.1250690        | 0.9010801         | \n",
       "| Hicgop South      | (Intercept)       | 8834.782117       | 69545.04178       |  0.1270368        | 0.8995322         | \n",
       "| Hicgop South      | year              |   -4.319582       |    34.53758       | -0.1250690        | 0.9010801         | \n",
       "| Palanas           | (Intercept)       | 8834.782117       | 69545.04178       |  0.1270368        | 0.8995322         | \n",
       "| Palanas           | year              |   -4.319582       |    34.53758       | -0.1250690        | 0.9010801         | \n",
       "| Poroc Rose        | (Intercept)       | 8834.782117       | 69545.04178       |  0.1270368        | 0.8995322         | \n",
       "| Poroc Rose        | year              |   -4.319582       |    34.53758       | -0.1250690        | 0.9010801         | \n",
       "| Poroc San Flower  | (Intercept)       | 8834.782117       | 69545.04178       |  0.1270368        | 0.8995322         | \n",
       "| Poroc San Flower  | year              |   -4.319582       |    34.53758       | -0.1250690        | 0.9010801         | \n",
       "| San Agustin       | (Intercept)       | 8834.782117       | 69545.04178       |  0.1270368        | 0.8995322         | \n",
       "| San Agustin       | year              |   -4.319582       |    34.53758       | -0.1250690        | 0.9010801         | \n",
       "| Sitio Baybayon    | (Intercept)       | 8834.782117       | 69545.04178       |  0.1270368        | 0.8995322         | \n",
       "| Sitio Baybayon    | year              |   -4.319582       |    34.53758       | -0.1250690        | 0.9010801         | \n",
       "| Tamakin Dacot     | (Intercept)       | 8834.782117       | 69545.04178       |  0.1270368        | 0.8995322         | \n",
       "| Tamakin Dacot     | year              |   -4.319582       |    34.53758       | -0.1250690        | 0.9010801         | \n",
       "| Visca             | (Intercept)       | 8834.782117       | 69545.04178       |  0.1270368        | 0.8995322         | \n",
       "| Visca             | year              |   -4.319582       |    34.53758       | -0.1250690        | 0.9010801         | \n",
       "| Wangag            | (Intercept)       | 8834.782117       | 69545.04178       |  0.1270368        | 0.8995322         | \n",
       "| Wangag            | year              |   -4.319582       |    34.53758       | -0.1250690        | 0.9010801         | \n",
       "\n",
       "\n"
      ],
      "text/plain": [
       "   source            term        estimate    std.error   statistic  p.value  \n",
       "1  Cabatoan          (Intercept) 8834.782117 69545.04178  0.1270368 0.8995322\n",
       "2  Cabatoan          year          -4.319582    34.53758 -0.1250690 0.9010801\n",
       "3  Caridad Cemetery  (Intercept) 8834.782117 69545.04178  0.1270368 0.8995322\n",
       "4  Caridad Cemetery  year          -4.319582    34.53758 -0.1250690 0.9010801\n",
       "5  Elementary School (Intercept) 8834.782117 69545.04178  0.1270368 0.8995322\n",
       "6  Elementary School year          -4.319582    34.53758 -0.1250690 0.9010801\n",
       "7  Haina             (Intercept) 8834.782117 69545.04178  0.1270368 0.8995322\n",
       "8  Haina             year          -4.319582    34.53758 -0.1250690 0.9010801\n",
       "9  Hicgop South      (Intercept) 8834.782117 69545.04178  0.1270368 0.8995322\n",
       "10 Hicgop South      year          -4.319582    34.53758 -0.1250690 0.9010801\n",
       "11 Palanas           (Intercept) 8834.782117 69545.04178  0.1270368 0.8995322\n",
       "12 Palanas           year          -4.319582    34.53758 -0.1250690 0.9010801\n",
       "13 Poroc Rose        (Intercept) 8834.782117 69545.04178  0.1270368 0.8995322\n",
       "14 Poroc Rose        year          -4.319582    34.53758 -0.1250690 0.9010801\n",
       "15 Poroc San Flower  (Intercept) 8834.782117 69545.04178  0.1270368 0.8995322\n",
       "16 Poroc San Flower  year          -4.319582    34.53758 -0.1250690 0.9010801\n",
       "17 San Agustin       (Intercept) 8834.782117 69545.04178  0.1270368 0.8995322\n",
       "18 San Agustin       year          -4.319582    34.53758 -0.1250690 0.9010801\n",
       "19 Sitio Baybayon    (Intercept) 8834.782117 69545.04178  0.1270368 0.8995322\n",
       "20 Sitio Baybayon    year          -4.319582    34.53758 -0.1250690 0.9010801\n",
       "21 Tamakin Dacot     (Intercept) 8834.782117 69545.04178  0.1270368 0.8995322\n",
       "22 Tamakin Dacot     year          -4.319582    34.53758 -0.1250690 0.9010801\n",
       "23 Visca             (Intercept) 8834.782117 69545.04178  0.1270368 0.8995322\n",
       "24 Visca             year          -4.319582    34.53758 -0.1250690 0.9010801\n",
       "25 Wangag            (Intercept) 8834.782117 69545.04178  0.1270368 0.8995322\n",
       "26 Wangag            year          -4.319582    34.53758 -0.1250690 0.9010801"
      ]
     },
     "metadata": {},
     "output_type": "display_data"
    }
   ],
   "source": [
    "df_self_lm = self_abundance %>% \n",
    "    group_by(source) %>%\n",
    "    do(fit_year = lm(adult_abundance ~ year, data =self_abundance))\n",
    "\n",
    "# get the coefficients by group in a tidy data_frame\n",
    "df_self_coef = tidy(df_self_lm, fit_year)\n",
    "df_self_coef"
   ]
  },
  {
   "cell_type": "code",
   "execution_count": 39,
   "metadata": {},
   "outputs": [
    {
     "name": "stdout",
     "output_type": "stream",
     "text": [
      "'data.frame':\t46 obs. of  5 variables:\n",
      " $ destination    : chr  \"Cabatoan\" \"Caridad Cemetery\" \"Elementary School\" \"Haina\" ...\n",
      " $ source         : chr  \"Cabatoan\" \"Caridad Cemetery\" \"Elementary School\" \"Haina\" ...\n",
      " $ year           : num  2013 2013 2013 2013 2013 ...\n",
      " $ migration_rate : num  1e-04 1e-04 1e-04 1e-04 1e-04 ...\n",
      " $ adult_abundance: num  40.56 11.93 8.94 214.95 57 ...\n"
     ]
    }
   ],
   "source": [
    "str(self_abundance)"
   ]
  },
  {
   "cell_type": "code",
   "execution_count": null,
   "metadata": {},
   "outputs": [],
   "source": []
  }
 ],
 "metadata": {
  "kernelspec": {
   "display_name": "R",
   "language": "R",
   "name": "ir"
  },
  "language_info": {
   "codemirror_mode": "r",
   "file_extension": ".r",
   "mimetype": "text/x-r-source",
   "name": "R",
   "pygments_lexer": "r",
   "version": "3.4.3"
  }
 },
 "nbformat": 4,
 "nbformat_minor": 2
}
